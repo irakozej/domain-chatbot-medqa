{
 "cells": [
  {
   "cell_type": "markdown",
   "id": "25df0125",
   "metadata": {},
   "source": [
    "## Cell 1 — Setup (install & imports)"
   ]
  },
  {
   "cell_type": "code",
   "execution_count": 7,
   "id": "2e2b933e",
   "metadata": {},
   "outputs": [
    {
     "name": "stdout",
     "output_type": "stream",
     "text": [
      "✅ All libraries imported\n",
      "TensorFlow version: 2.12.0\n"
     ]
    }
   ],
   "source": [
    "import os\n",
    "import pandas as pd\n",
    "import numpy as np\n",
    "import tensorflow as tf\n",
    "from sklearn.model_selection import train_test_split\n",
    "from transformers import T5TokenizerFast, TFT5ForConditionalGeneration, DataCollatorForSeq2Seq\n",
    "import gradio as gr\n",
    "import random\n",
    "from tqdm import tqdm\n",
    "\n",
    "print(\"✅ All libraries imported\")\n",
    "print(\"TensorFlow version:\", tf.__version__)\n"
   ]
  },
  {
   "cell_type": "markdown",
   "id": "155837fb",
   "metadata": {},
   "source": [
    "## Cell 2: Load dataset\n"
   ]
  },
  {
   "cell_type": "code",
   "execution_count": 8,
   "id": "ad059f35",
   "metadata": {},
   "outputs": [
    {
     "name": "stdout",
     "output_type": "stream",
     "text": [
      "Dataset shape: (16407, 4)\n"
     ]
    },
    {
     "data": {
      "text/html": [
       "<div>\n",
       "<style scoped>\n",
       "    .dataframe tbody tr th:only-of-type {\n",
       "        vertical-align: middle;\n",
       "    }\n",
       "\n",
       "    .dataframe tbody tr th {\n",
       "        vertical-align: top;\n",
       "    }\n",
       "\n",
       "    .dataframe thead th {\n",
       "        text-align: right;\n",
       "    }\n",
       "</style>\n",
       "<table border=\"1\" class=\"dataframe\">\n",
       "  <thead>\n",
       "    <tr style=\"text-align: right;\">\n",
       "      <th></th>\n",
       "      <th>question</th>\n",
       "      <th>answer</th>\n",
       "      <th>source</th>\n",
       "      <th>focus_area</th>\n",
       "    </tr>\n",
       "  </thead>\n",
       "  <tbody>\n",
       "    <tr>\n",
       "      <th>0</th>\n",
       "      <td>What is (are) Glaucoma ?</td>\n",
       "      <td>Glaucoma is a group of diseases that can damag...</td>\n",
       "      <td>NIHSeniorHealth</td>\n",
       "      <td>Glaucoma</td>\n",
       "    </tr>\n",
       "    <tr>\n",
       "      <th>1</th>\n",
       "      <td>What causes Glaucoma ?</td>\n",
       "      <td>Nearly 2.7 million people have glaucoma, a lea...</td>\n",
       "      <td>NIHSeniorHealth</td>\n",
       "      <td>Glaucoma</td>\n",
       "    </tr>\n",
       "    <tr>\n",
       "      <th>2</th>\n",
       "      <td>What are the symptoms of Glaucoma ?</td>\n",
       "      <td>Symptoms of Glaucoma  Glaucoma can develop in ...</td>\n",
       "      <td>NIHSeniorHealth</td>\n",
       "      <td>Glaucoma</td>\n",
       "    </tr>\n",
       "    <tr>\n",
       "      <th>3</th>\n",
       "      <td>What are the treatments for Glaucoma ?</td>\n",
       "      <td>Although open-angle glaucoma cannot be cured, ...</td>\n",
       "      <td>NIHSeniorHealth</td>\n",
       "      <td>Glaucoma</td>\n",
       "    </tr>\n",
       "    <tr>\n",
       "      <th>4</th>\n",
       "      <td>What is (are) Glaucoma ?</td>\n",
       "      <td>Glaucoma is a group of diseases that can damag...</td>\n",
       "      <td>NIHSeniorHealth</td>\n",
       "      <td>Glaucoma</td>\n",
       "    </tr>\n",
       "  </tbody>\n",
       "</table>\n",
       "</div>"
      ],
      "text/plain": [
       "                                 question  \\\n",
       "0                What is (are) Glaucoma ?   \n",
       "1                  What causes Glaucoma ?   \n",
       "2     What are the symptoms of Glaucoma ?   \n",
       "3  What are the treatments for Glaucoma ?   \n",
       "4                What is (are) Glaucoma ?   \n",
       "\n",
       "                                              answer           source  \\\n",
       "0  Glaucoma is a group of diseases that can damag...  NIHSeniorHealth   \n",
       "1  Nearly 2.7 million people have glaucoma, a lea...  NIHSeniorHealth   \n",
       "2  Symptoms of Glaucoma  Glaucoma can develop in ...  NIHSeniorHealth   \n",
       "3  Although open-angle glaucoma cannot be cured, ...  NIHSeniorHealth   \n",
       "4  Glaucoma is a group of diseases that can damag...  NIHSeniorHealth   \n",
       "\n",
       "  focus_area  \n",
       "0   Glaucoma  \n",
       "1   Glaucoma  \n",
       "2   Glaucoma  \n",
       "3   Glaucoma  \n",
       "4   Glaucoma  "
      ]
     },
     "execution_count": 8,
     "metadata": {},
     "output_type": "execute_result"
    }
   ],
   "source": [
    "# Load the MedQuad CSV dataset\n",
    "data_path = \"../data/medquad.csv\"\n",
    "df = pd.read_csv(data_path)\n",
    "\n",
    "# Preview dataset\n",
    "df = df.dropna(subset=[\"question\", \"answer\"]).reset_index(drop=True)\n",
    "print(\"Dataset shape:\", df.shape)\n",
    "df.head()\n"
   ]
  },
  {
   "cell_type": "markdown",
   "id": "83c6cbb1",
   "metadata": {},
   "source": [
    "## Cell 3: Split dataset"
   ]
  },
  {
   "cell_type": "code",
   "execution_count": null,
   "id": "45c8fc02",
   "metadata": {},
   "outputs": [],
   "source": [
    "# Split into train/test\n",
    "train_df, test_df = train_test_split(df, test_size=0.1, random_state=42)\n",
    "print(\"Train shape:\", train_df.shape)\n",
    "print(\"Test shape:\", test_df.shape)\n"
   ]
  },
  {
   "cell_type": "code",
   "execution_count": 3,
   "id": "64918a2c",
   "metadata": {},
   "outputs": [
    {
     "name": "stdout",
     "output_type": "stream",
     "text": [
      "Dataset size: 16407\n"
     ]
    },
    {
     "data": {
      "text/html": [
       "<div>\n",
       "<style scoped>\n",
       "    .dataframe tbody tr th:only-of-type {\n",
       "        vertical-align: middle;\n",
       "    }\n",
       "\n",
       "    .dataframe tbody tr th {\n",
       "        vertical-align: top;\n",
       "    }\n",
       "\n",
       "    .dataframe thead th {\n",
       "        text-align: right;\n",
       "    }\n",
       "</style>\n",
       "<table border=\"1\" class=\"dataframe\">\n",
       "  <thead>\n",
       "    <tr style=\"text-align: right;\">\n",
       "      <th></th>\n",
       "      <th>question</th>\n",
       "      <th>answer</th>\n",
       "      <th>source</th>\n",
       "      <th>focus_area</th>\n",
       "    </tr>\n",
       "  </thead>\n",
       "  <tbody>\n",
       "    <tr>\n",
       "      <th>0</th>\n",
       "      <td>what is (are) glaucoma ?</td>\n",
       "      <td>Glaucoma is a group of diseases that can damag...</td>\n",
       "      <td>NIHSeniorHealth</td>\n",
       "      <td>Glaucoma</td>\n",
       "    </tr>\n",
       "    <tr>\n",
       "      <th>1</th>\n",
       "      <td>what causes glaucoma ?</td>\n",
       "      <td>Nearly 2.7 million people have glaucoma, a lea...</td>\n",
       "      <td>NIHSeniorHealth</td>\n",
       "      <td>Glaucoma</td>\n",
       "    </tr>\n",
       "    <tr>\n",
       "      <th>2</th>\n",
       "      <td>what are the symptoms of glaucoma ?</td>\n",
       "      <td>Symptoms of Glaucoma  Glaucoma can develop in ...</td>\n",
       "      <td>NIHSeniorHealth</td>\n",
       "      <td>Glaucoma</td>\n",
       "    </tr>\n",
       "    <tr>\n",
       "      <th>3</th>\n",
       "      <td>what are the treatments for glaucoma ?</td>\n",
       "      <td>Although open-angle glaucoma cannot be cured, ...</td>\n",
       "      <td>NIHSeniorHealth</td>\n",
       "      <td>Glaucoma</td>\n",
       "    </tr>\n",
       "    <tr>\n",
       "      <th>4</th>\n",
       "      <td>what is (are) glaucoma ?</td>\n",
       "      <td>Glaucoma is a group of diseases that can damag...</td>\n",
       "      <td>NIHSeniorHealth</td>\n",
       "      <td>Glaucoma</td>\n",
       "    </tr>\n",
       "  </tbody>\n",
       "</table>\n",
       "</div>"
      ],
      "text/plain": [
       "                                 question  \\\n",
       "0                what is (are) glaucoma ?   \n",
       "1                  what causes glaucoma ?   \n",
       "2     what are the symptoms of glaucoma ?   \n",
       "3  what are the treatments for glaucoma ?   \n",
       "4                what is (are) glaucoma ?   \n",
       "\n",
       "                                              answer           source  \\\n",
       "0  Glaucoma is a group of diseases that can damag...  NIHSeniorHealth   \n",
       "1  Nearly 2.7 million people have glaucoma, a lea...  NIHSeniorHealth   \n",
       "2  Symptoms of Glaucoma  Glaucoma can develop in ...  NIHSeniorHealth   \n",
       "3  Although open-angle glaucoma cannot be cured, ...  NIHSeniorHealth   \n",
       "4  Glaucoma is a group of diseases that can damag...  NIHSeniorHealth   \n",
       "\n",
       "  focus_area  \n",
       "0   Glaucoma  \n",
       "1   Glaucoma  \n",
       "2   Glaucoma  \n",
       "3   Glaucoma  \n",
       "4   Glaucoma  "
      ]
     },
     "execution_count": 3,
     "metadata": {},
     "output_type": "execute_result"
    }
   ],
   "source": [
    "df = df.dropna(subset=['question', 'answer'])  # Remove missing values\n",
    "df['question'] = df['question'].str.strip().str.lower()\n",
    "df['answer'] = df['answer'].str.strip()\n",
    "\n",
    "# Quick sanity check\n",
    "print(\"Dataset size:\", len(df))\n",
    "df.head()"
   ]
  },
  {
   "cell_type": "markdown",
   "id": "8b172d1c",
   "metadata": {},
   "source": [
    "## Cell 4: Train/test split\n"
   ]
  },
  {
   "cell_type": "code",
   "execution_count": 4,
   "id": "a839d20c",
   "metadata": {},
   "outputs": [
    {
     "name": "stdout",
     "output_type": "stream",
     "text": [
      "DatasetDict({\n",
      "    train: Dataset({\n",
      "        features: ['question', 'answer', 'source', 'focus_area', '__index_level_0__'],\n",
      "        num_rows: 14766\n",
      "    })\n",
      "    test: Dataset({\n",
      "        features: ['question', 'answer', 'source', 'focus_area', '__index_level_0__'],\n",
      "        num_rows: 1641\n",
      "    })\n",
      "})\n"
     ]
    }
   ],
   "source": [
    "train_df, test_df = train_test_split(df, test_size=0.1, random_state=42)\n",
    "\n",
    "# Convert to Hugging Face datasets\n",
    "train_dataset = Dataset.from_pandas(train_df)\n",
    "test_dataset = Dataset.from_pandas(test_df)\n",
    "\n",
    "medquad_dataset = DatasetDict({\n",
    "    \"train\": train_dataset,\n",
    "    \"test\": test_dataset\n",
    "})\n",
    "print(medquad_dataset)"
   ]
  },
  {
   "cell_type": "markdown",
   "id": "27c07cec",
   "metadata": {},
   "source": [
    "## Tokenizer and preprocessing for T5"
   ]
  },
  {
   "cell_type": "code",
   "execution_count": 5,
   "id": "6c7ef6c9",
   "metadata": {},
   "outputs": [
    {
     "name": "stderr",
     "output_type": "stream",
     "text": [
      "                                                                   \r"
     ]
    }
   ],
   "source": [
    "model_checkpoint = \"t5-small\"  # You can upgrade later to t5-base\n",
    "tokenizer = T5TokenizerFast.from_pretrained(model_checkpoint)\n",
    "\n",
    "max_input_length = 128\n",
    "max_target_length = 64\n",
    "\n",
    "def preprocess_function(examples):\n",
    "    inputs = [\"question: \" + q for q in examples[\"question\"]]\n",
    "    targets = examples[\"answer\"]\n",
    "    model_inputs = tokenizer(\n",
    "        inputs,\n",
    "        max_length=max_input_length,\n",
    "        padding=\"max_length\",\n",
    "        truncation=True,\n",
    "        return_tensors=\"tf\"\n",
    "    )\n",
    "    labels = tokenizer(\n",
    "        targets,\n",
    "        max_length=max_target_length,\n",
    "        padding=\"max_length\",\n",
    "        truncation=True,\n",
    "        return_tensors=\"tf\"\n",
    "    )\n",
    "    model_inputs[\"labels\"] = labels[\"input_ids\"]\n",
    "    return model_inputs\n",
    "\n",
    "tokenized_train = medquad_dataset[\"train\"].map(preprocess_function, batched=True)\n",
    "tokenized_test = medquad_dataset[\"test\"].map(preprocess_function, batched=True)"
   ]
  },
  {
   "cell_type": "markdown",
   "id": "85dfc1d2",
   "metadata": {},
   "source": [
    "## Prepare TensorFlow datasets\n"
   ]
  },
  {
   "cell_type": "code",
   "execution_count": null,
   "id": "45edde90",
   "metadata": {},
   "outputs": [
    {
     "ename": "AttributeError",
     "evalue": "'list' object has no attribute 'to_tensor'",
     "output_type": "error",
     "traceback": [
      "\u001b[0;31m---------------------------------------------------------------------------\u001b[0m",
      "\u001b[0;31mAttributeError\u001b[0m                            Traceback (most recent call last)",
      "Cell \u001b[0;32mIn[6], line 1\u001b[0m\n\u001b[0;32m----> 1\u001b[0m train_features \u001b[38;5;241m=\u001b[39m {x: tokenized_train[x]\u001b[38;5;241m.\u001b[39mto_tensor(default_value\u001b[38;5;241m=\u001b[39m\u001b[38;5;241m0\u001b[39m, shape\u001b[38;5;241m=\u001b[39m[\u001b[38;5;28;01mNone\u001b[39;00m, max_input_length]) \n\u001b[1;32m      2\u001b[0m                   \u001b[38;5;28;01mfor\u001b[39;00m x \u001b[38;5;129;01min\u001b[39;00m [\u001b[38;5;124m\"\u001b[39m\u001b[38;5;124minput_ids\u001b[39m\u001b[38;5;124m\"\u001b[39m, \u001b[38;5;124m\"\u001b[39m\u001b[38;5;124mattention_mask\u001b[39m\u001b[38;5;124m\"\u001b[39m]}\n\u001b[1;32m      3\u001b[0m train_labels \u001b[38;5;241m=\u001b[39m tokenized_train[\u001b[38;5;124m\"\u001b[39m\u001b[38;5;124mlabels\u001b[39m\u001b[38;5;124m\"\u001b[39m]\u001b[38;5;241m.\u001b[39mto_tensor(default_value\u001b[38;5;241m=\u001b[39m\u001b[38;5;241m0\u001b[39m, shape\u001b[38;5;241m=\u001b[39m[\u001b[38;5;28;01mNone\u001b[39;00m, max_target_length])\n\u001b[1;32m      5\u001b[0m test_features \u001b[38;5;241m=\u001b[39m {x: tokenized_test[x]\u001b[38;5;241m.\u001b[39mto_tensor(default_value\u001b[38;5;241m=\u001b[39m\u001b[38;5;241m0\u001b[39m, shape\u001b[38;5;241m=\u001b[39m[\u001b[38;5;28;01mNone\u001b[39;00m, max_input_length]) \n\u001b[1;32m      6\u001b[0m                  \u001b[38;5;28;01mfor\u001b[39;00m x \u001b[38;5;129;01min\u001b[39;00m [\u001b[38;5;124m\"\u001b[39m\u001b[38;5;124minput_ids\u001b[39m\u001b[38;5;124m\"\u001b[39m, \u001b[38;5;124m\"\u001b[39m\u001b[38;5;124mattention_mask\u001b[39m\u001b[38;5;124m\"\u001b[39m]}\n",
      "Cell \u001b[0;32mIn[6], line 1\u001b[0m, in \u001b[0;36m<dictcomp>\u001b[0;34m(.0)\u001b[0m\n\u001b[0;32m----> 1\u001b[0m train_features \u001b[38;5;241m=\u001b[39m {x: \u001b[43mtokenized_train\u001b[49m\u001b[43m[\u001b[49m\u001b[43mx\u001b[49m\u001b[43m]\u001b[49m\u001b[38;5;241;43m.\u001b[39;49m\u001b[43mto_tensor\u001b[49m(default_value\u001b[38;5;241m=\u001b[39m\u001b[38;5;241m0\u001b[39m, shape\u001b[38;5;241m=\u001b[39m[\u001b[38;5;28;01mNone\u001b[39;00m, max_input_length]) \n\u001b[1;32m      2\u001b[0m                   \u001b[38;5;28;01mfor\u001b[39;00m x \u001b[38;5;129;01min\u001b[39;00m [\u001b[38;5;124m\"\u001b[39m\u001b[38;5;124minput_ids\u001b[39m\u001b[38;5;124m\"\u001b[39m, \u001b[38;5;124m\"\u001b[39m\u001b[38;5;124mattention_mask\u001b[39m\u001b[38;5;124m\"\u001b[39m]}\n\u001b[1;32m      3\u001b[0m train_labels \u001b[38;5;241m=\u001b[39m tokenized_train[\u001b[38;5;124m\"\u001b[39m\u001b[38;5;124mlabels\u001b[39m\u001b[38;5;124m\"\u001b[39m]\u001b[38;5;241m.\u001b[39mto_tensor(default_value\u001b[38;5;241m=\u001b[39m\u001b[38;5;241m0\u001b[39m, shape\u001b[38;5;241m=\u001b[39m[\u001b[38;5;28;01mNone\u001b[39;00m, max_target_length])\n\u001b[1;32m      5\u001b[0m test_features \u001b[38;5;241m=\u001b[39m {x: tokenized_test[x]\u001b[38;5;241m.\u001b[39mto_tensor(default_value\u001b[38;5;241m=\u001b[39m\u001b[38;5;241m0\u001b[39m, shape\u001b[38;5;241m=\u001b[39m[\u001b[38;5;28;01mNone\u001b[39;00m, max_input_length]) \n\u001b[1;32m      6\u001b[0m                  \u001b[38;5;28;01mfor\u001b[39;00m x \u001b[38;5;129;01min\u001b[39;00m [\u001b[38;5;124m\"\u001b[39m\u001b[38;5;124minput_ids\u001b[39m\u001b[38;5;124m\"\u001b[39m, \u001b[38;5;124m\"\u001b[39m\u001b[38;5;124mattention_mask\u001b[39m\u001b[38;5;124m\"\u001b[39m]}\n",
      "\u001b[0;31mAttributeError\u001b[0m: 'list' object has no attribute 'to_tensor'"
     ]
    }
   ],
   "source": [
    "# ===============================\n",
    "# Cell 6: Prepare TensorFlow datasets\n",
    "# ===============================\n",
    "\n",
    "import tensorflow as tf\n",
    "from transformers import T5TokenizerFast\n",
    "\n",
    "# Assume train_df and test_df are already loaded from medquad.csv\n",
    "# Columns: \"question\" (input), \"answer\" (target)\n",
    "\n",
    "# Initialize T5 tokenizer\n",
    "tokenizer = T5TokenizerFast.from_pretrained(\"t5-small\")\n",
    "\n",
    "# Max sequence lengths\n",
    "max_input_length = 128\n",
    "max_target_length = 64\n",
    "\n",
    "# -------------------------------\n",
    "# Tokenization function\n",
    "# -------------------------------\n",
    "def tokenize_function(examples):\n",
    "    # Tokenize inputs\n",
    "    model_inputs = tokenizer(\n",
    "        examples[\"question\"],\n",
    "        max_length=max_input_length,\n",
    "        padding=\"max_length\",\n",
    "        truncation=True,\n",
    "        return_tensors=None  # Return Python lists\n",
    "    )\n",
    "    # Tokenize targets\n",
    "    labels = tokenizer(\n",
    "        examples[\"answer\"],\n",
    "        max_length=max_target_length,\n",
    "        padding=\"max_length\",\n",
    "        truncation=True,\n",
    "        return_tensors=None\n",
    "    )\n",
    "    model_inputs[\"labels\"] = labels[\"input_ids\"]\n",
    "    return model_inputs\n",
    "\n",
    "# -------------------------------\n",
    "# Apply tokenization\n",
    "# -------------------------------\n",
    "tokenized_train = tokenize_function({\n",
    "    \"question\": train_df[\"question\"].tolist(),\n",
    "    \"answer\": train_df[\"answer\"].tolist()\n",
    "})\n",
    "\n",
    "tokenized_test = tokenize_function({\n",
    "    \"question\": test_df[\"question\"].tolist(),\n",
    "    \"answer\": test_df[\"answer\"].tolist()\n",
    "})\n",
    "\n",
    "# -------------------------------\n",
    "# Convert lists to TensorFlow tensors\n",
    "# -------------------------------\n",
    "train_features = {\n",
    "    \"input_ids\": tf.constant(tokenized_train[\"input_ids\"], dtype=tf.int32),\n",
    "    \"attention_mask\": tf.constant(tokenized_train[\"attention_mask\"], dtype=tf.int32)\n",
    "}\n",
    "train_labels = tf.constant(tokenized_train[\"labels\"], dtype=tf.int32)\n",
    "\n",
    "test_features = {\n",
    "    \"input_ids\": tf.constant(tokenized_test[\"input_ids\"], dtype=tf.int32),\n",
    "    \"attention_mask\": tf.constant(tokenized_test[\"attention_mask\"], dtype=tf.int32)\n",
    "}\n",
    "test_labels = tf.constant(tokenized_test[\"labels\"], dtype=tf.int32)\n",
    "\n",
    "# -------------------------------\n",
    "# Create TensorFlow Dataset objects\n",
    "# -------------------------------\n",
    "batch_size = 16\n",
    "train_dataset = tf.data.Dataset.from_tensor_slices((train_features, train_labels))\n",
    "test_dataset = tf.data.Dataset.from_tensor_slices((test_features, test_labels))\n",
    "\n",
    "train_dataset = train_dataset.shuffle(buffer_size=len(train_df)).batch(batch_size)\n",
    "test_dataset = test_dataset.batch(batch_size)\n",
    "\n",
    "print(\"✅ TensorFlow datasets prepared successfully!\")\n",
    "print(\"Train batches:\", len(list(train_dataset)))\n",
    "print(\"Test batches:\", len(list(test_dataset)))\n"
   ]
  }
 ],
 "metadata": {
  "kernelspec": {
   "display_name": "venv",
   "language": "python",
   "name": "python3"
  },
  "language_info": {
   "codemirror_mode": {
    "name": "ipython",
    "version": 3
   },
   "file_extension": ".py",
   "mimetype": "text/x-python",
   "name": "python",
   "nbconvert_exporter": "python",
   "pygments_lexer": "ipython3",
   "version": "3.10.13"
  }
 },
 "nbformat": 4,
 "nbformat_minor": 5
}
